{
 "nbformat": 4,
 "nbformat_minor": 0,
 "metadata": {
  "colab": {
   "provenance": []
  },
  "kernelspec": {
   "name": "python3",
   "display_name": "Python 3"
  },
  "language_info": {
   "name": "python"
  },
  "accelerator": "GPU",
  "gpuClass": "standard",
  "widgets": {
   "application/vnd.jupyter.widget-state+json": {
    "27ae8951e03a4a77bfdd56b9fe35686f": {
     "model_module": "@jupyter-widgets/controls",
     "model_name": "HBoxModel",
     "model_module_version": "1.5.0",
     "state": {
      "_dom_classes": [],
      "_model_module": "@jupyter-widgets/controls",
      "_model_module_version": "1.5.0",
      "_model_name": "HBoxModel",
      "_view_count": null,
      "_view_module": "@jupyter-widgets/controls",
      "_view_module_version": "1.5.0",
      "_view_name": "HBoxView",
      "box_style": "",
      "children": [
       "IPY_MODEL_9a04e02a63b047a4936721b9d9039cda",
       "IPY_MODEL_c58d3601a4f043f7a3f34b3c5fd802d0",
       "IPY_MODEL_c41b67d4709b4390a3ef67ea75c2739e"
      ],
      "layout": "IPY_MODEL_4683f70dfda0464cb90d4d42a3bec05a"
     }
    },
    "9a04e02a63b047a4936721b9d9039cda": {
     "model_module": "@jupyter-widgets/controls",
     "model_name": "HTMLModel",
     "model_module_version": "1.5.0",
     "state": {
      "_dom_classes": [],
      "_model_module": "@jupyter-widgets/controls",
      "_model_module_version": "1.5.0",
      "_model_name": "HTMLModel",
      "_view_count": null,
      "_view_module": "@jupyter-widgets/controls",
      "_view_module_version": "1.5.0",
      "_view_name": "HTMLView",
      "description": "",
      "description_tooltip": null,
      "layout": "IPY_MODEL_ee80d2b386d246aea3742cbac22da711",
      "placeholder": "​",
      "style": "IPY_MODEL_4d7a8dec2ce34a6f901f0a6a372cc95c",
      "value": "100%"
     }
    },
    "c58d3601a4f043f7a3f34b3c5fd802d0": {
     "model_module": "@jupyter-widgets/controls",
     "model_name": "FloatProgressModel",
     "model_module_version": "1.5.0",
     "state": {
      "_dom_classes": [],
      "_model_module": "@jupyter-widgets/controls",
      "_model_module_version": "1.5.0",
      "_model_name": "FloatProgressModel",
      "_view_count": null,
      "_view_module": "@jupyter-widgets/controls",
      "_view_module_version": "1.5.0",
      "_view_name": "ProgressView",
      "bar_style": "success",
      "description": "",
      "description_tooltip": null,
      "layout": "IPY_MODEL_4114f80aab944b35a2144727c3bb9631",
      "max": 26421880,
      "min": 0,
      "orientation": "horizontal",
      "style": "IPY_MODEL_0e39e419fdcd42e49c6d9595fdf00a64",
      "value": 26421880
     }
    },
    "c41b67d4709b4390a3ef67ea75c2739e": {
     "model_module": "@jupyter-widgets/controls",
     "model_name": "HTMLModel",
     "model_module_version": "1.5.0",
     "state": {
      "_dom_classes": [],
      "_model_module": "@jupyter-widgets/controls",
      "_model_module_version": "1.5.0",
      "_model_name": "HTMLModel",
      "_view_count": null,
      "_view_module": "@jupyter-widgets/controls",
      "_view_module_version": "1.5.0",
      "_view_name": "HTMLView",
      "description": "",
      "description_tooltip": null,
      "layout": "IPY_MODEL_5068ef8d2b09431fbdb32c0fabd76687",
      "placeholder": "​",
      "style": "IPY_MODEL_40b72f532ab5440a9068ff6207ea6f4f",
      "value": " 26421880/26421880 [00:01&lt;00:00, 27429271.39it/s]"
     }
    },
    "4683f70dfda0464cb90d4d42a3bec05a": {
     "model_module": "@jupyter-widgets/base",
     "model_name": "LayoutModel",
     "model_module_version": "1.2.0",
     "state": {
      "_model_module": "@jupyter-widgets/base",
      "_model_module_version": "1.2.0",
      "_model_name": "LayoutModel",
      "_view_count": null,
      "_view_module": "@jupyter-widgets/base",
      "_view_module_version": "1.2.0",
      "_view_name": "LayoutView",
      "align_content": null,
      "align_items": null,
      "align_self": null,
      "border": null,
      "bottom": null,
      "display": null,
      "flex": null,
      "flex_flow": null,
      "grid_area": null,
      "grid_auto_columns": null,
      "grid_auto_flow": null,
      "grid_auto_rows": null,
      "grid_column": null,
      "grid_gap": null,
      "grid_row": null,
      "grid_template_areas": null,
      "grid_template_columns": null,
      "grid_template_rows": null,
      "height": null,
      "justify_content": null,
      "justify_items": null,
      "left": null,
      "margin": null,
      "max_height": null,
      "max_width": null,
      "min_height": null,
      "min_width": null,
      "object_fit": null,
      "object_position": null,
      "order": null,
      "overflow": null,
      "overflow_x": null,
      "overflow_y": null,
      "padding": null,
      "right": null,
      "top": null,
      "visibility": null,
      "width": null
     }
    },
    "ee80d2b386d246aea3742cbac22da711": {
     "model_module": "@jupyter-widgets/base",
     "model_name": "LayoutModel",
     "model_module_version": "1.2.0",
     "state": {
      "_model_module": "@jupyter-widgets/base",
      "_model_module_version": "1.2.0",
      "_model_name": "LayoutModel",
      "_view_count": null,
      "_view_module": "@jupyter-widgets/base",
      "_view_module_version": "1.2.0",
      "_view_name": "LayoutView",
      "align_content": null,
      "align_items": null,
      "align_self": null,
      "border": null,
      "bottom": null,
      "display": null,
      "flex": null,
      "flex_flow": null,
      "grid_area": null,
      "grid_auto_columns": null,
      "grid_auto_flow": null,
      "grid_auto_rows": null,
      "grid_column": null,
      "grid_gap": null,
      "grid_row": null,
      "grid_template_areas": null,
      "grid_template_columns": null,
      "grid_template_rows": null,
      "height": null,
      "justify_content": null,
      "justify_items": null,
      "left": null,
      "margin": null,
      "max_height": null,
      "max_width": null,
      "min_height": null,
      "min_width": null,
      "object_fit": null,
      "object_position": null,
      "order": null,
      "overflow": null,
      "overflow_x": null,
      "overflow_y": null,
      "padding": null,
      "right": null,
      "top": null,
      "visibility": null,
      "width": null
     }
    },
    "4d7a8dec2ce34a6f901f0a6a372cc95c": {
     "model_module": "@jupyter-widgets/controls",
     "model_name": "DescriptionStyleModel",
     "model_module_version": "1.5.0",
     "state": {
      "_model_module": "@jupyter-widgets/controls",
      "_model_module_version": "1.5.0",
      "_model_name": "DescriptionStyleModel",
      "_view_count": null,
      "_view_module": "@jupyter-widgets/base",
      "_view_module_version": "1.2.0",
      "_view_name": "StyleView",
      "description_width": ""
     }
    },
    "4114f80aab944b35a2144727c3bb9631": {
     "model_module": "@jupyter-widgets/base",
     "model_name": "LayoutModel",
     "model_module_version": "1.2.0",
     "state": {
      "_model_module": "@jupyter-widgets/base",
      "_model_module_version": "1.2.0",
      "_model_name": "LayoutModel",
      "_view_count": null,
      "_view_module": "@jupyter-widgets/base",
      "_view_module_version": "1.2.0",
      "_view_name": "LayoutView",
      "align_content": null,
      "align_items": null,
      "align_self": null,
      "border": null,
      "bottom": null,
      "display": null,
      "flex": null,
      "flex_flow": null,
      "grid_area": null,
      "grid_auto_columns": null,
      "grid_auto_flow": null,
      "grid_auto_rows": null,
      "grid_column": null,
      "grid_gap": null,
      "grid_row": null,
      "grid_template_areas": null,
      "grid_template_columns": null,
      "grid_template_rows": null,
      "height": null,
      "justify_content": null,
      "justify_items": null,
      "left": null,
      "margin": null,
      "max_height": null,
      "max_width": null,
      "min_height": null,
      "min_width": null,
      "object_fit": null,
      "object_position": null,
      "order": null,
      "overflow": null,
      "overflow_x": null,
      "overflow_y": null,
      "padding": null,
      "right": null,
      "top": null,
      "visibility": null,
      "width": null
     }
    },
    "0e39e419fdcd42e49c6d9595fdf00a64": {
     "model_module": "@jupyter-widgets/controls",
     "model_name": "ProgressStyleModel",
     "model_module_version": "1.5.0",
     "state": {
      "_model_module": "@jupyter-widgets/controls",
      "_model_module_version": "1.5.0",
      "_model_name": "ProgressStyleModel",
      "_view_count": null,
      "_view_module": "@jupyter-widgets/base",
      "_view_module_version": "1.2.0",
      "_view_name": "StyleView",
      "bar_color": null,
      "description_width": ""
     }
    },
    "5068ef8d2b09431fbdb32c0fabd76687": {
     "model_module": "@jupyter-widgets/base",
     "model_name": "LayoutModel",
     "model_module_version": "1.2.0",
     "state": {
      "_model_module": "@jupyter-widgets/base",
      "_model_module_version": "1.2.0",
      "_model_name": "LayoutModel",
      "_view_count": null,
      "_view_module": "@jupyter-widgets/base",
      "_view_module_version": "1.2.0",
      "_view_name": "LayoutView",
      "align_content": null,
      "align_items": null,
      "align_self": null,
      "border": null,
      "bottom": null,
      "display": null,
      "flex": null,
      "flex_flow": null,
      "grid_area": null,
      "grid_auto_columns": null,
      "grid_auto_flow": null,
      "grid_auto_rows": null,
      "grid_column": null,
      "grid_gap": null,
      "grid_row": null,
      "grid_template_areas": null,
      "grid_template_columns": null,
      "grid_template_rows": null,
      "height": null,
      "justify_content": null,
      "justify_items": null,
      "left": null,
      "margin": null,
      "max_height": null,
      "max_width": null,
      "min_height": null,
      "min_width": null,
      "object_fit": null,
      "object_position": null,
      "order": null,
      "overflow": null,
      "overflow_x": null,
      "overflow_y": null,
      "padding": null,
      "right": null,
      "top": null,
      "visibility": null,
      "width": null
     }
    },
    "40b72f532ab5440a9068ff6207ea6f4f": {
     "model_module": "@jupyter-widgets/controls",
     "model_name": "DescriptionStyleModel",
     "model_module_version": "1.5.0",
     "state": {
      "_model_module": "@jupyter-widgets/controls",
      "_model_module_version": "1.5.0",
      "_model_name": "DescriptionStyleModel",
      "_view_count": null,
      "_view_module": "@jupyter-widgets/base",
      "_view_module_version": "1.2.0",
      "_view_name": "StyleView",
      "description_width": ""
     }
    },
    "fc839c3e786b4004b5f8bd1558d94d99": {
     "model_module": "@jupyter-widgets/controls",
     "model_name": "HBoxModel",
     "model_module_version": "1.5.0",
     "state": {
      "_dom_classes": [],
      "_model_module": "@jupyter-widgets/controls",
      "_model_module_version": "1.5.0",
      "_model_name": "HBoxModel",
      "_view_count": null,
      "_view_module": "@jupyter-widgets/controls",
      "_view_module_version": "1.5.0",
      "_view_name": "HBoxView",
      "box_style": "",
      "children": [
       "IPY_MODEL_dc5b2ff0e8304aa7abb639a404004479",
       "IPY_MODEL_2e2caca3b8474d218b61405b172abe1f",
       "IPY_MODEL_0922e212807f4efbb975b1c1d6ea324d"
      ],
      "layout": "IPY_MODEL_fa3ef990982249398e5c9e1d371e9e65"
     }
    },
    "dc5b2ff0e8304aa7abb639a404004479": {
     "model_module": "@jupyter-widgets/controls",
     "model_name": "HTMLModel",
     "model_module_version": "1.5.0",
     "state": {
      "_dom_classes": [],
      "_model_module": "@jupyter-widgets/controls",
      "_model_module_version": "1.5.0",
      "_model_name": "HTMLModel",
      "_view_count": null,
      "_view_module": "@jupyter-widgets/controls",
      "_view_module_version": "1.5.0",
      "_view_name": "HTMLView",
      "description": "",
      "description_tooltip": null,
      "layout": "IPY_MODEL_667d8328ef204717bdc436f8ac0b42e9",
      "placeholder": "​",
      "style": "IPY_MODEL_732413666abb4f7eb7aeeb63383062f8",
      "value": "100%"
     }
    },
    "2e2caca3b8474d218b61405b172abe1f": {
     "model_module": "@jupyter-widgets/controls",
     "model_name": "FloatProgressModel",
     "model_module_version": "1.5.0",
     "state": {
      "_dom_classes": [],
      "_model_module": "@jupyter-widgets/controls",
      "_model_module_version": "1.5.0",
      "_model_name": "FloatProgressModel",
      "_view_count": null,
      "_view_module": "@jupyter-widgets/controls",
      "_view_module_version": "1.5.0",
      "_view_name": "ProgressView",
      "bar_style": "success",
      "description": "",
      "description_tooltip": null,
      "layout": "IPY_MODEL_ec4ca7a230534f179bd3fbfc204d47af",
      "max": 29515,
      "min": 0,
      "orientation": "horizontal",
      "style": "IPY_MODEL_c5aa0b966b294168a6454718f7a60a4c",
      "value": 29515
     }
    },
    "0922e212807f4efbb975b1c1d6ea324d": {
     "model_module": "@jupyter-widgets/controls",
     "model_name": "HTMLModel",
     "model_module_version": "1.5.0",
     "state": {
      "_dom_classes": [],
      "_model_module": "@jupyter-widgets/controls",
      "_model_module_version": "1.5.0",
      "_model_name": "HTMLModel",
      "_view_count": null,
      "_view_module": "@jupyter-widgets/controls",
      "_view_module_version": "1.5.0",
      "_view_name": "HTMLView",
      "description": "",
      "description_tooltip": null,
      "layout": "IPY_MODEL_a70a234df09c4614a02c3eec8e31d09a",
      "placeholder": "​",
      "style": "IPY_MODEL_2aa0a1d59be94fa2ba4e27336e643d04",
      "value": " 29515/29515 [00:00&lt;00:00, 290865.28it/s]"
     }
    },
    "fa3ef990982249398e5c9e1d371e9e65": {
     "model_module": "@jupyter-widgets/base",
     "model_name": "LayoutModel",
     "model_module_version": "1.2.0",
     "state": {
      "_model_module": "@jupyter-widgets/base",
      "_model_module_version": "1.2.0",
      "_model_name": "LayoutModel",
      "_view_count": null,
      "_view_module": "@jupyter-widgets/base",
      "_view_module_version": "1.2.0",
      "_view_name": "LayoutView",
      "align_content": null,
      "align_items": null,
      "align_self": null,
      "border": null,
      "bottom": null,
      "display": null,
      "flex": null,
      "flex_flow": null,
      "grid_area": null,
      "grid_auto_columns": null,
      "grid_auto_flow": null,
      "grid_auto_rows": null,
      "grid_column": null,
      "grid_gap": null,
      "grid_row": null,
      "grid_template_areas": null,
      "grid_template_columns": null,
      "grid_template_rows": null,
      "height": null,
      "justify_content": null,
      "justify_items": null,
      "left": null,
      "margin": null,
      "max_height": null,
      "max_width": null,
      "min_height": null,
      "min_width": null,
      "object_fit": null,
      "object_position": null,
      "order": null,
      "overflow": null,
      "overflow_x": null,
      "overflow_y": null,
      "padding": null,
      "right": null,
      "top": null,
      "visibility": null,
      "width": null
     }
    },
    "667d8328ef204717bdc436f8ac0b42e9": {
     "model_module": "@jupyter-widgets/base",
     "model_name": "LayoutModel",
     "model_module_version": "1.2.0",
     "state": {
      "_model_module": "@jupyter-widgets/base",
      "_model_module_version": "1.2.0",
      "_model_name": "LayoutModel",
      "_view_count": null,
      "_view_module": "@jupyter-widgets/base",
      "_view_module_version": "1.2.0",
      "_view_name": "LayoutView",
      "align_content": null,
      "align_items": null,
      "align_self": null,
      "border": null,
      "bottom": null,
      "display": null,
      "flex": null,
      "flex_flow": null,
      "grid_area": null,
      "grid_auto_columns": null,
      "grid_auto_flow": null,
      "grid_auto_rows": null,
      "grid_column": null,
      "grid_gap": null,
      "grid_row": null,
      "grid_template_areas": null,
      "grid_template_columns": null,
      "grid_template_rows": null,
      "height": null,
      "justify_content": null,
      "justify_items": null,
      "left": null,
      "margin": null,
      "max_height": null,
      "max_width": null,
      "min_height": null,
      "min_width": null,
      "object_fit": null,
      "object_position": null,
      "order": null,
      "overflow": null,
      "overflow_x": null,
      "overflow_y": null,
      "padding": null,
      "right": null,
      "top": null,
      "visibility": null,
      "width": null
     }
    },
    "732413666abb4f7eb7aeeb63383062f8": {
     "model_module": "@jupyter-widgets/controls",
     "model_name": "DescriptionStyleModel",
     "model_module_version": "1.5.0",
     "state": {
      "_model_module": "@jupyter-widgets/controls",
      "_model_module_version": "1.5.0",
      "_model_name": "DescriptionStyleModel",
      "_view_count": null,
      "_view_module": "@jupyter-widgets/base",
      "_view_module_version": "1.2.0",
      "_view_name": "StyleView",
      "description_width": ""
     }
    },
    "ec4ca7a230534f179bd3fbfc204d47af": {
     "model_module": "@jupyter-widgets/base",
     "model_name": "LayoutModel",
     "model_module_version": "1.2.0",
     "state": {
      "_model_module": "@jupyter-widgets/base",
      "_model_module_version": "1.2.0",
      "_model_name": "LayoutModel",
      "_view_count": null,
      "_view_module": "@jupyter-widgets/base",
      "_view_module_version": "1.2.0",
      "_view_name": "LayoutView",
      "align_content": null,
      "align_items": null,
      "align_self": null,
      "border": null,
      "bottom": null,
      "display": null,
      "flex": null,
      "flex_flow": null,
      "grid_area": null,
      "grid_auto_columns": null,
      "grid_auto_flow": null,
      "grid_auto_rows": null,
      "grid_column": null,
      "grid_gap": null,
      "grid_row": null,
      "grid_template_areas": null,
      "grid_template_columns": null,
      "grid_template_rows": null,
      "height": null,
      "justify_content": null,
      "justify_items": null,
      "left": null,
      "margin": null,
      "max_height": null,
      "max_width": null,
      "min_height": null,
      "min_width": null,
      "object_fit": null,
      "object_position": null,
      "order": null,
      "overflow": null,
      "overflow_x": null,
      "overflow_y": null,
      "padding": null,
      "right": null,
      "top": null,
      "visibility": null,
      "width": null
     }
    },
    "c5aa0b966b294168a6454718f7a60a4c": {
     "model_module": "@jupyter-widgets/controls",
     "model_name": "ProgressStyleModel",
     "model_module_version": "1.5.0",
     "state": {
      "_model_module": "@jupyter-widgets/controls",
      "_model_module_version": "1.5.0",
      "_model_name": "ProgressStyleModel",
      "_view_count": null,
      "_view_module": "@jupyter-widgets/base",
      "_view_module_version": "1.2.0",
      "_view_name": "StyleView",
      "bar_color": null,
      "description_width": ""
     }
    },
    "a70a234df09c4614a02c3eec8e31d09a": {
     "model_module": "@jupyter-widgets/base",
     "model_name": "LayoutModel",
     "model_module_version": "1.2.0",
     "state": {
      "_model_module": "@jupyter-widgets/base",
      "_model_module_version": "1.2.0",
      "_model_name": "LayoutModel",
      "_view_count": null,
      "_view_module": "@jupyter-widgets/base",
      "_view_module_version": "1.2.0",
      "_view_name": "LayoutView",
      "align_content": null,
      "align_items": null,
      "align_self": null,
      "border": null,
      "bottom": null,
      "display": null,
      "flex": null,
      "flex_flow": null,
      "grid_area": null,
      "grid_auto_columns": null,
      "grid_auto_flow": null,
      "grid_auto_rows": null,
      "grid_column": null,
      "grid_gap": null,
      "grid_row": null,
      "grid_template_areas": null,
      "grid_template_columns": null,
      "grid_template_rows": null,
      "height": null,
      "justify_content": null,
      "justify_items": null,
      "left": null,
      "margin": null,
      "max_height": null,
      "max_width": null,
      "min_height": null,
      "min_width": null,
      "object_fit": null,
      "object_position": null,
      "order": null,
      "overflow": null,
      "overflow_x": null,
      "overflow_y": null,
      "padding": null,
      "right": null,
      "top": null,
      "visibility": null,
      "width": null
     }
    },
    "2aa0a1d59be94fa2ba4e27336e643d04": {
     "model_module": "@jupyter-widgets/controls",
     "model_name": "DescriptionStyleModel",
     "model_module_version": "1.5.0",
     "state": {
      "_model_module": "@jupyter-widgets/controls",
      "_model_module_version": "1.5.0",
      "_model_name": "DescriptionStyleModel",
      "_view_count": null,
      "_view_module": "@jupyter-widgets/base",
      "_view_module_version": "1.2.0",
      "_view_name": "StyleView",
      "description_width": ""
     }
    },
    "a804d6a777ed4c22bef819ad2b85b6fb": {
     "model_module": "@jupyter-widgets/controls",
     "model_name": "HBoxModel",
     "model_module_version": "1.5.0",
     "state": {
      "_dom_classes": [],
      "_model_module": "@jupyter-widgets/controls",
      "_model_module_version": "1.5.0",
      "_model_name": "HBoxModel",
      "_view_count": null,
      "_view_module": "@jupyter-widgets/controls",
      "_view_module_version": "1.5.0",
      "_view_name": "HBoxView",
      "box_style": "",
      "children": [
       "IPY_MODEL_e2a4345834c34e8bab957a988b514728",
       "IPY_MODEL_1f100d47c9ec4db7ba0967f508bc16cb",
       "IPY_MODEL_26ec885ad50b49f1a6fa2beb58c18950"
      ],
      "layout": "IPY_MODEL_a37b913419f2456da84e99065a9e4102"
     }
    },
    "e2a4345834c34e8bab957a988b514728": {
     "model_module": "@jupyter-widgets/controls",
     "model_name": "HTMLModel",
     "model_module_version": "1.5.0",
     "state": {
      "_dom_classes": [],
      "_model_module": "@jupyter-widgets/controls",
      "_model_module_version": "1.5.0",
      "_model_name": "HTMLModel",
      "_view_count": null,
      "_view_module": "@jupyter-widgets/controls",
      "_view_module_version": "1.5.0",
      "_view_name": "HTMLView",
      "description": "",
      "description_tooltip": null,
      "layout": "IPY_MODEL_6ecc2719f02a42aa9e7097faa2719a0d",
      "placeholder": "​",
      "style": "IPY_MODEL_fa3ac34db9414b1fbbd8d58730a5c7fe",
      "value": "100%"
     }
    },
    "1f100d47c9ec4db7ba0967f508bc16cb": {
     "model_module": "@jupyter-widgets/controls",
     "model_name": "FloatProgressModel",
     "model_module_version": "1.5.0",
     "state": {
      "_dom_classes": [],
      "_model_module": "@jupyter-widgets/controls",
      "_model_module_version": "1.5.0",
      "_model_name": "FloatProgressModel",
      "_view_count": null,
      "_view_module": "@jupyter-widgets/controls",
      "_view_module_version": "1.5.0",
      "_view_name": "ProgressView",
      "bar_style": "success",
      "description": "",
      "description_tooltip": null,
      "layout": "IPY_MODEL_2be6a1c44a46452886aaf7482053b1f6",
      "max": 4422102,
      "min": 0,
      "orientation": "horizontal",
      "style": "IPY_MODEL_df3431d5ee184bababb0317744a0f29e",
      "value": 4422102
     }
    },
    "26ec885ad50b49f1a6fa2beb58c18950": {
     "model_module": "@jupyter-widgets/controls",
     "model_name": "HTMLModel",
     "model_module_version": "1.5.0",
     "state": {
      "_dom_classes": [],
      "_model_module": "@jupyter-widgets/controls",
      "_model_module_version": "1.5.0",
      "_model_name": "HTMLModel",
      "_view_count": null,
      "_view_module": "@jupyter-widgets/controls",
      "_view_module_version": "1.5.0",
      "_view_name": "HTMLView",
      "description": "",
      "description_tooltip": null,
      "layout": "IPY_MODEL_5836106e22ec4abbb21dcba5e6b3a394",
      "placeholder": "​",
      "style": "IPY_MODEL_1a9ffea6588d412fb21d0ac7c356d566",
      "value": " 4422102/4422102 [00:00&lt;00:00, 8457452.07it/s]"
     }
    },
    "a37b913419f2456da84e99065a9e4102": {
     "model_module": "@jupyter-widgets/base",
     "model_name": "LayoutModel",
     "model_module_version": "1.2.0",
     "state": {
      "_model_module": "@jupyter-widgets/base",
      "_model_module_version": "1.2.0",
      "_model_name": "LayoutModel",
      "_view_count": null,
      "_view_module": "@jupyter-widgets/base",
      "_view_module_version": "1.2.0",
      "_view_name": "LayoutView",
      "align_content": null,
      "align_items": null,
      "align_self": null,
      "border": null,
      "bottom": null,
      "display": null,
      "flex": null,
      "flex_flow": null,
      "grid_area": null,
      "grid_auto_columns": null,
      "grid_auto_flow": null,
      "grid_auto_rows": null,
      "grid_column": null,
      "grid_gap": null,
      "grid_row": null,
      "grid_template_areas": null,
      "grid_template_columns": null,
      "grid_template_rows": null,
      "height": null,
      "justify_content": null,
      "justify_items": null,
      "left": null,
      "margin": null,
      "max_height": null,
      "max_width": null,
      "min_height": null,
      "min_width": null,
      "object_fit": null,
      "object_position": null,
      "order": null,
      "overflow": null,
      "overflow_x": null,
      "overflow_y": null,
      "padding": null,
      "right": null,
      "top": null,
      "visibility": null,
      "width": null
     }
    },
    "6ecc2719f02a42aa9e7097faa2719a0d": {
     "model_module": "@jupyter-widgets/base",
     "model_name": "LayoutModel",
     "model_module_version": "1.2.0",
     "state": {
      "_model_module": "@jupyter-widgets/base",
      "_model_module_version": "1.2.0",
      "_model_name": "LayoutModel",
      "_view_count": null,
      "_view_module": "@jupyter-widgets/base",
      "_view_module_version": "1.2.0",
      "_view_name": "LayoutView",
      "align_content": null,
      "align_items": null,
      "align_self": null,
      "border": null,
      "bottom": null,
      "display": null,
      "flex": null,
      "flex_flow": null,
      "grid_area": null,
      "grid_auto_columns": null,
      "grid_auto_flow": null,
      "grid_auto_rows": null,
      "grid_column": null,
      "grid_gap": null,
      "grid_row": null,
      "grid_template_areas": null,
      "grid_template_columns": null,
      "grid_template_rows": null,
      "height": null,
      "justify_content": null,
      "justify_items": null,
      "left": null,
      "margin": null,
      "max_height": null,
      "max_width": null,
      "min_height": null,
      "min_width": null,
      "object_fit": null,
      "object_position": null,
      "order": null,
      "overflow": null,
      "overflow_x": null,
      "overflow_y": null,
      "padding": null,
      "right": null,
      "top": null,
      "visibility": null,
      "width": null
     }
    },
    "fa3ac34db9414b1fbbd8d58730a5c7fe": {
     "model_module": "@jupyter-widgets/controls",
     "model_name": "DescriptionStyleModel",
     "model_module_version": "1.5.0",
     "state": {
      "_model_module": "@jupyter-widgets/controls",
      "_model_module_version": "1.5.0",
      "_model_name": "DescriptionStyleModel",
      "_view_count": null,
      "_view_module": "@jupyter-widgets/base",
      "_view_module_version": "1.2.0",
      "_view_name": "StyleView",
      "description_width": ""
     }
    },
    "2be6a1c44a46452886aaf7482053b1f6": {
     "model_module": "@jupyter-widgets/base",
     "model_name": "LayoutModel",
     "model_module_version": "1.2.0",
     "state": {
      "_model_module": "@jupyter-widgets/base",
      "_model_module_version": "1.2.0",
      "_model_name": "LayoutModel",
      "_view_count": null,
      "_view_module": "@jupyter-widgets/base",
      "_view_module_version": "1.2.0",
      "_view_name": "LayoutView",
      "align_content": null,
      "align_items": null,
      "align_self": null,
      "border": null,
      "bottom": null,
      "display": null,
      "flex": null,
      "flex_flow": null,
      "grid_area": null,
      "grid_auto_columns": null,
      "grid_auto_flow": null,
      "grid_auto_rows": null,
      "grid_column": null,
      "grid_gap": null,
      "grid_row": null,
      "grid_template_areas": null,
      "grid_template_columns": null,
      "grid_template_rows": null,
      "height": null,
      "justify_content": null,
      "justify_items": null,
      "left": null,
      "margin": null,
      "max_height": null,
      "max_width": null,
      "min_height": null,
      "min_width": null,
      "object_fit": null,
      "object_position": null,
      "order": null,
      "overflow": null,
      "overflow_x": null,
      "overflow_y": null,
      "padding": null,
      "right": null,
      "top": null,
      "visibility": null,
      "width": null
     }
    },
    "df3431d5ee184bababb0317744a0f29e": {
     "model_module": "@jupyter-widgets/controls",
     "model_name": "ProgressStyleModel",
     "model_module_version": "1.5.0",
     "state": {
      "_model_module": "@jupyter-widgets/controls",
      "_model_module_version": "1.5.0",
      "_model_name": "ProgressStyleModel",
      "_view_count": null,
      "_view_module": "@jupyter-widgets/base",
      "_view_module_version": "1.2.0",
      "_view_name": "StyleView",
      "bar_color": null,
      "description_width": ""
     }
    },
    "5836106e22ec4abbb21dcba5e6b3a394": {
     "model_module": "@jupyter-widgets/base",
     "model_name": "LayoutModel",
     "model_module_version": "1.2.0",
     "state": {
      "_model_module": "@jupyter-widgets/base",
      "_model_module_version": "1.2.0",
      "_model_name": "LayoutModel",
      "_view_count": null,
      "_view_module": "@jupyter-widgets/base",
      "_view_module_version": "1.2.0",
      "_view_name": "LayoutView",
      "align_content": null,
      "align_items": null,
      "align_self": null,
      "border": null,
      "bottom": null,
      "display": null,
      "flex": null,
      "flex_flow": null,
      "grid_area": null,
      "grid_auto_columns": null,
      "grid_auto_flow": null,
      "grid_auto_rows": null,
      "grid_column": null,
      "grid_gap": null,
      "grid_row": null,
      "grid_template_areas": null,
      "grid_template_columns": null,
      "grid_template_rows": null,
      "height": null,
      "justify_content": null,
      "justify_items": null,
      "left": null,
      "margin": null,
      "max_height": null,
      "max_width": null,
      "min_height": null,
      "min_width": null,
      "object_fit": null,
      "object_position": null,
      "order": null,
      "overflow": null,
      "overflow_x": null,
      "overflow_y": null,
      "padding": null,
      "right": null,
      "top": null,
      "visibility": null,
      "width": null
     }
    },
    "1a9ffea6588d412fb21d0ac7c356d566": {
     "model_module": "@jupyter-widgets/controls",
     "model_name": "DescriptionStyleModel",
     "model_module_version": "1.5.0",
     "state": {
      "_model_module": "@jupyter-widgets/controls",
      "_model_module_version": "1.5.0",
      "_model_name": "DescriptionStyleModel",
      "_view_count": null,
      "_view_module": "@jupyter-widgets/base",
      "_view_module_version": "1.2.0",
      "_view_name": "StyleView",
      "description_width": ""
     }
    },
    "66e0f9af652a461f98f035fca3587b81": {
     "model_module": "@jupyter-widgets/controls",
     "model_name": "HBoxModel",
     "model_module_version": "1.5.0",
     "state": {
      "_dom_classes": [],
      "_model_module": "@jupyter-widgets/controls",
      "_model_module_version": "1.5.0",
      "_model_name": "HBoxModel",
      "_view_count": null,
      "_view_module": "@jupyter-widgets/controls",
      "_view_module_version": "1.5.0",
      "_view_name": "HBoxView",
      "box_style": "",
      "children": [
       "IPY_MODEL_a8b7bd07ee664cd38cd289bd67fe5952",
       "IPY_MODEL_8d98872b249d4f8e80ba0fff2805a8a0",
       "IPY_MODEL_fd60980744fc4980a6a1fcbd1b8da957"
      ],
      "layout": "IPY_MODEL_c5c0ea4e89f441b294fb441a74f01d1a"
     }
    },
    "a8b7bd07ee664cd38cd289bd67fe5952": {
     "model_module": "@jupyter-widgets/controls",
     "model_name": "HTMLModel",
     "model_module_version": "1.5.0",
     "state": {
      "_dom_classes": [],
      "_model_module": "@jupyter-widgets/controls",
      "_model_module_version": "1.5.0",
      "_model_name": "HTMLModel",
      "_view_count": null,
      "_view_module": "@jupyter-widgets/controls",
      "_view_module_version": "1.5.0",
      "_view_name": "HTMLView",
      "description": "",
      "description_tooltip": null,
      "layout": "IPY_MODEL_cd6bc36bfa0b441f8591236113252993",
      "placeholder": "​",
      "style": "IPY_MODEL_fab9ea14d5d14a298dbfed7281ff406a",
      "value": "100%"
     }
    },
    "8d98872b249d4f8e80ba0fff2805a8a0": {
     "model_module": "@jupyter-widgets/controls",
     "model_name": "FloatProgressModel",
     "model_module_version": "1.5.0",
     "state": {
      "_dom_classes": [],
      "_model_module": "@jupyter-widgets/controls",
      "_model_module_version": "1.5.0",
      "_model_name": "FloatProgressModel",
      "_view_count": null,
      "_view_module": "@jupyter-widgets/controls",
      "_view_module_version": "1.5.0",
      "_view_name": "ProgressView",
      "bar_style": "success",
      "description": "",
      "description_tooltip": null,
      "layout": "IPY_MODEL_caebc653a34b48d8add76cb6e457aa84",
      "max": 5148,
      "min": 0,
      "orientation": "horizontal",
      "style": "IPY_MODEL_f2bbd4d5812143c6a04295a940f516c4",
      "value": 5148
     }
    },
    "fd60980744fc4980a6a1fcbd1b8da957": {
     "model_module": "@jupyter-widgets/controls",
     "model_name": "HTMLModel",
     "model_module_version": "1.5.0",
     "state": {
      "_dom_classes": [],
      "_model_module": "@jupyter-widgets/controls",
      "_model_module_version": "1.5.0",
      "_model_name": "HTMLModel",
      "_view_count": null,
      "_view_module": "@jupyter-widgets/controls",
      "_view_module_version": "1.5.0",
      "_view_name": "HTMLView",
      "description": "",
      "description_tooltip": null,
      "layout": "IPY_MODEL_80fdb6857245450e926a23622df73769",
      "placeholder": "​",
      "style": "IPY_MODEL_a62f019dace245d1bf1f256dd7ae1ada",
      "value": " 5148/5148 [00:00&lt;00:00, 47144.81it/s]"
     }
    },
    "c5c0ea4e89f441b294fb441a74f01d1a": {
     "model_module": "@jupyter-widgets/base",
     "model_name": "LayoutModel",
     "model_module_version": "1.2.0",
     "state": {
      "_model_module": "@jupyter-widgets/base",
      "_model_module_version": "1.2.0",
      "_model_name": "LayoutModel",
      "_view_count": null,
      "_view_module": "@jupyter-widgets/base",
      "_view_module_version": "1.2.0",
      "_view_name": "LayoutView",
      "align_content": null,
      "align_items": null,
      "align_self": null,
      "border": null,
      "bottom": null,
      "display": null,
      "flex": null,
      "flex_flow": null,
      "grid_area": null,
      "grid_auto_columns": null,
      "grid_auto_flow": null,
      "grid_auto_rows": null,
      "grid_column": null,
      "grid_gap": null,
      "grid_row": null,
      "grid_template_areas": null,
      "grid_template_columns": null,
      "grid_template_rows": null,
      "height": null,
      "justify_content": null,
      "justify_items": null,
      "left": null,
      "margin": null,
      "max_height": null,
      "max_width": null,
      "min_height": null,
      "min_width": null,
      "object_fit": null,
      "object_position": null,
      "order": null,
      "overflow": null,
      "overflow_x": null,
      "overflow_y": null,
      "padding": null,
      "right": null,
      "top": null,
      "visibility": null,
      "width": null
     }
    },
    "cd6bc36bfa0b441f8591236113252993": {
     "model_module": "@jupyter-widgets/base",
     "model_name": "LayoutModel",
     "model_module_version": "1.2.0",
     "state": {
      "_model_module": "@jupyter-widgets/base",
      "_model_module_version": "1.2.0",
      "_model_name": "LayoutModel",
      "_view_count": null,
      "_view_module": "@jupyter-widgets/base",
      "_view_module_version": "1.2.0",
      "_view_name": "LayoutView",
      "align_content": null,
      "align_items": null,
      "align_self": null,
      "border": null,
      "bottom": null,
      "display": null,
      "flex": null,
      "flex_flow": null,
      "grid_area": null,
      "grid_auto_columns": null,
      "grid_auto_flow": null,
      "grid_auto_rows": null,
      "grid_column": null,
      "grid_gap": null,
      "grid_row": null,
      "grid_template_areas": null,
      "grid_template_columns": null,
      "grid_template_rows": null,
      "height": null,
      "justify_content": null,
      "justify_items": null,
      "left": null,
      "margin": null,
      "max_height": null,
      "max_width": null,
      "min_height": null,
      "min_width": null,
      "object_fit": null,
      "object_position": null,
      "order": null,
      "overflow": null,
      "overflow_x": null,
      "overflow_y": null,
      "padding": null,
      "right": null,
      "top": null,
      "visibility": null,
      "width": null
     }
    },
    "fab9ea14d5d14a298dbfed7281ff406a": {
     "model_module": "@jupyter-widgets/controls",
     "model_name": "DescriptionStyleModel",
     "model_module_version": "1.5.0",
     "state": {
      "_model_module": "@jupyter-widgets/controls",
      "_model_module_version": "1.5.0",
      "_model_name": "DescriptionStyleModel",
      "_view_count": null,
      "_view_module": "@jupyter-widgets/base",
      "_view_module_version": "1.2.0",
      "_view_name": "StyleView",
      "description_width": ""
     }
    },
    "caebc653a34b48d8add76cb6e457aa84": {
     "model_module": "@jupyter-widgets/base",
     "model_name": "LayoutModel",
     "model_module_version": "1.2.0",
     "state": {
      "_model_module": "@jupyter-widgets/base",
      "_model_module_version": "1.2.0",
      "_model_name": "LayoutModel",
      "_view_count": null,
      "_view_module": "@jupyter-widgets/base",
      "_view_module_version": "1.2.0",
      "_view_name": "LayoutView",
      "align_content": null,
      "align_items": null,
      "align_self": null,
      "border": null,
      "bottom": null,
      "display": null,
      "flex": null,
      "flex_flow": null,
      "grid_area": null,
      "grid_auto_columns": null,
      "grid_auto_flow": null,
      "grid_auto_rows": null,
      "grid_column": null,
      "grid_gap": null,
      "grid_row": null,
      "grid_template_areas": null,
      "grid_template_columns": null,
      "grid_template_rows": null,
      "height": null,
      "justify_content": null,
      "justify_items": null,
      "left": null,
      "margin": null,
      "max_height": null,
      "max_width": null,
      "min_height": null,
      "min_width": null,
      "object_fit": null,
      "object_position": null,
      "order": null,
      "overflow": null,
      "overflow_x": null,
      "overflow_y": null,
      "padding": null,
      "right": null,
      "top": null,
      "visibility": null,
      "width": null
     }
    },
    "f2bbd4d5812143c6a04295a940f516c4": {
     "model_module": "@jupyter-widgets/controls",
     "model_name": "ProgressStyleModel",
     "model_module_version": "1.5.0",
     "state": {
      "_model_module": "@jupyter-widgets/controls",
      "_model_module_version": "1.5.0",
      "_model_name": "ProgressStyleModel",
      "_view_count": null,
      "_view_module": "@jupyter-widgets/base",
      "_view_module_version": "1.2.0",
      "_view_name": "StyleView",
      "bar_color": null,
      "description_width": ""
     }
    },
    "80fdb6857245450e926a23622df73769": {
     "model_module": "@jupyter-widgets/base",
     "model_name": "LayoutModel",
     "model_module_version": "1.2.0",
     "state": {
      "_model_module": "@jupyter-widgets/base",
      "_model_module_version": "1.2.0",
      "_model_name": "LayoutModel",
      "_view_count": null,
      "_view_module": "@jupyter-widgets/base",
      "_view_module_version": "1.2.0",
      "_view_name": "LayoutView",
      "align_content": null,
      "align_items": null,
      "align_self": null,
      "border": null,
      "bottom": null,
      "display": null,
      "flex": null,
      "flex_flow": null,
      "grid_area": null,
      "grid_auto_columns": null,
      "grid_auto_flow": null,
      "grid_auto_rows": null,
      "grid_column": null,
      "grid_gap": null,
      "grid_row": null,
      "grid_template_areas": null,
      "grid_template_columns": null,
      "grid_template_rows": null,
      "height": null,
      "justify_content": null,
      "justify_items": null,
      "left": null,
      "margin": null,
      "max_height": null,
      "max_width": null,
      "min_height": null,
      "min_width": null,
      "object_fit": null,
      "object_position": null,
      "order": null,
      "overflow": null,
      "overflow_x": null,
      "overflow_y": null,
      "padding": null,
      "right": null,
      "top": null,
      "visibility": null,
      "width": null
     }
    },
    "a62f019dace245d1bf1f256dd7ae1ada": {
     "model_module": "@jupyter-widgets/controls",
     "model_name": "DescriptionStyleModel",
     "model_module_version": "1.5.0",
     "state": {
      "_model_module": "@jupyter-widgets/controls",
      "_model_module_version": "1.5.0",
      "_model_name": "DescriptionStyleModel",
      "_view_count": null,
      "_view_module": "@jupyter-widgets/base",
      "_view_module_version": "1.2.0",
      "_view_name": "StyleView",
      "description_width": ""
     }
    }
   }
  }
 },
 "cells": [
  {
   "cell_type": "markdown",
   "source": [
    "# 0. Dataset Description:"
   ],
   "metadata": {
    "id": "9UQcoBgvMcGc"
   }
  },
  {
   "cell_type": "markdown",
   "source": [
    "\n",
    "\n",
    "Fashion-MNIST dataset consists of a training set of **60,000** examples and a test set of **10,000** examples. Each example is a **28x28** grayscale image, associated with a label from **10 classes**\n",
    "\n",
    "Each image is 28 pixels in height and 28 pixels in width, for a total of 784 pixels in total. Each pixel has a single pixel-value associated with it, indicating the lightness or darkness of that pixel, with higher numbers meaning darker.\n",
    "\n",
    "It is a more challenging classification problem than MNIST and top results are achieved by deep learning convolutional neural networks with a classification accuracy of about 90% to 95% on the hold out test dataset.\n",
    "\n",
    "We know that the images are all pre-segmented (e.g. each image contains a single item of clothing), that the images all have the same square size of 28×28 pixels, and that the images are grayscale. We also know that there are 10 classes and that classes are represented as unique integers."
   ],
   "metadata": {
    "id": "zWl4fRn8KOdG"
   }
  },
  {
   "cell_type": "markdown",
   "source": [
    "# 1. Getting setup"
   ],
   "metadata": {
    "id": "_AEgZnasMTSU"
   }
  },
  {
   "cell_type": "code",
   "source": [
    "# Import PyTorch\n",
    "import torch\n",
    "from torch import nn\n",
    "\n",
    "# Import torchvision \n",
    "import torchvision\n",
    "import torchvision.datasets as datasets\n",
    "import torchvision.transforms as transforms\n",
    "\n",
    "# Import matplotlib for visualization\n",
    "import matplotlib.pyplot as plt\n",
    "\n",
    "# Check versions\n",
    "# Note: your PyTorch version shouldn't be lower than 1.10.0 and torchvision version shouldn't be lower than 0.11\n",
    "print(f\"PyTorch version: {torch.__version__}\\ntorchvision version: {torchvision.__version__}\")"
   ],
   "metadata": {
    "id": "IQFFdBFdLB_j",
    "colab": {
     "base_uri": "https://localhost:8080/"
    },
    "outputId": "f3ed9f47-6a25-496c-95f8-070919a8be04"
   },
   "execution_count": 17,
   "outputs": [
    {
     "name": "stdout",
     "output_type": "stream",
     "text": [
      "PyTorch version: 1.13.0+cu117\n",
      "torchvision version: 0.14.0+cu117\n"
     ]
    }
   ]
  },
  {
   "cell_type": "code",
   "source": [
    "# setup device-agnostic code to make sure our models run on the GPU.\n",
    "device=\"cuda\" if torch.cuda.is_available() else \"cpu\"\n",
    "device"
   ],
   "metadata": {
    "id": "9Q3URglxNl9o",
    "colab": {
     "base_uri": "https://localhost:8080/",
     "height": 35
    },
    "outputId": "cf343d13-0074-4e65-8901-cba0e2a6e866"
   },
   "execution_count": 18,
   "outputs": [
    {
     "data": {
      "text/plain": "'cuda'"
     },
     "execution_count": 18,
     "metadata": {},
     "output_type": "execute_result"
    }
   ]
  },
  {
   "cell_type": "markdown",
   "source": [
    "# 2. Getting a dataset"
   ],
   "metadata": {
    "id": "9-jiu5zGSTZN"
   }
  },
  {
   "cell_type": "code",
   "source": [
    "# setup training data \n",
    "train_data = datasets.FashionMNIST(\n",
    "    root=\"data\",\n",
    "    train=True,\n",
    "    download=True,\n",
    "    target_transform=None,\n",
    "    transform=transforms.Compose([\n",
    "        transforms.ToTensor(),\n",
    "        transforms.RandomHorizontalFlip(p=0.5),\n",
    "        transforms.Normalize((0.5,), (0.5,))\n",
    "    ])\n",
    ")\n",
    "\n",
    "\n",
    "# setup testing data \n",
    "test_data = datasets.FashionMNIST(\n",
    "    root=\"data\",\n",
    "    train=False,\n",
    "    download=True,\n",
    "    transform=transforms.Compose([\n",
    "        transforms.ToTensor(),\n",
    "        transforms.RandomHorizontalFlip(p=0.5),\n",
    "        transforms.Normalize((0.5,), (0.5,))\n",
    "    ])\n",
    ")\n"
   ],
   "metadata": {
    "id": "oCkFQXf4SSzm",
    "colab": {
     "base_uri": "https://localhost:8080/",
     "height": 423,
     "referenced_widgets": [
      "27ae8951e03a4a77bfdd56b9fe35686f",
      "9a04e02a63b047a4936721b9d9039cda",
      "c58d3601a4f043f7a3f34b3c5fd802d0",
      "c41b67d4709b4390a3ef67ea75c2739e",
      "4683f70dfda0464cb90d4d42a3bec05a",
      "ee80d2b386d246aea3742cbac22da711",
      "4d7a8dec2ce34a6f901f0a6a372cc95c",
      "4114f80aab944b35a2144727c3bb9631",
      "0e39e419fdcd42e49c6d9595fdf00a64",
      "5068ef8d2b09431fbdb32c0fabd76687",
      "40b72f532ab5440a9068ff6207ea6f4f",
      "fc839c3e786b4004b5f8bd1558d94d99",
      "dc5b2ff0e8304aa7abb639a404004479",
      "2e2caca3b8474d218b61405b172abe1f",
      "0922e212807f4efbb975b1c1d6ea324d",
      "fa3ef990982249398e5c9e1d371e9e65",
      "667d8328ef204717bdc436f8ac0b42e9",
      "732413666abb4f7eb7aeeb63383062f8",
      "ec4ca7a230534f179bd3fbfc204d47af",
      "c5aa0b966b294168a6454718f7a60a4c",
      "a70a234df09c4614a02c3eec8e31d09a",
      "2aa0a1d59be94fa2ba4e27336e643d04",
      "a804d6a777ed4c22bef819ad2b85b6fb",
      "e2a4345834c34e8bab957a988b514728",
      "1f100d47c9ec4db7ba0967f508bc16cb",
      "26ec885ad50b49f1a6fa2beb58c18950",
      "a37b913419f2456da84e99065a9e4102",
      "6ecc2719f02a42aa9e7097faa2719a0d",
      "fa3ac34db9414b1fbbd8d58730a5c7fe",
      "2be6a1c44a46452886aaf7482053b1f6",
      "df3431d5ee184bababb0317744a0f29e",
      "5836106e22ec4abbb21dcba5e6b3a394",
      "1a9ffea6588d412fb21d0ac7c356d566",
      "66e0f9af652a461f98f035fca3587b81",
      "a8b7bd07ee664cd38cd289bd67fe5952",
      "8d98872b249d4f8e80ba0fff2805a8a0",
      "fd60980744fc4980a6a1fcbd1b8da957",
      "c5c0ea4e89f441b294fb441a74f01d1a",
      "cd6bc36bfa0b441f8591236113252993",
      "fab9ea14d5d14a298dbfed7281ff406a",
      "caebc653a34b48d8add76cb6e457aa84",
      "f2bbd4d5812143c6a04295a940f516c4",
      "80fdb6857245450e926a23622df73769",
      "a62f019dace245d1bf1f256dd7ae1ada"
     ]
    },
    "outputId": "fac493a5-1327-427c-86c2-3ff71fdbab94"
   },
   "execution_count": 19,
   "outputs": []
  },
  {
   "cell_type": "code",
   "source": [
    "# Access first training sample\n",
    "image , label = train_data[0]\n",
    "image , label"
   ],
   "metadata": {
    "colab": {
     "base_uri": "https://localhost:8080/"
    },
    "id": "G-hB65GhFW5n",
    "outputId": "851b72db-e502-4654-a23f-bdf9c185796b"
   },
   "execution_count": 20,
   "outputs": [
    {
     "data": {
      "text/plain": "(tensor([[[-1.0000, -1.0000, -1.0000, -1.0000, -1.0000, -1.0000, -1.0000,\n           -1.0000, -1.0000, -1.0000, -1.0000, -1.0000, -1.0000, -1.0000,\n           -1.0000, -1.0000, -1.0000, -1.0000, -1.0000, -1.0000, -1.0000,\n           -1.0000, -1.0000, -1.0000, -1.0000, -1.0000, -1.0000, -1.0000],\n          [-1.0000, -1.0000, -1.0000, -1.0000, -1.0000, -1.0000, -1.0000,\n           -1.0000, -1.0000, -1.0000, -1.0000, -1.0000, -1.0000, -1.0000,\n           -1.0000, -1.0000, -1.0000, -1.0000, -1.0000, -1.0000, -1.0000,\n           -1.0000, -1.0000, -1.0000, -1.0000, -1.0000, -1.0000, -1.0000],\n          [-1.0000, -1.0000, -1.0000, -1.0000, -1.0000, -1.0000, -1.0000,\n           -1.0000, -1.0000, -1.0000, -1.0000, -1.0000, -1.0000, -1.0000,\n           -1.0000, -1.0000, -1.0000, -1.0000, -1.0000, -1.0000, -1.0000,\n           -1.0000, -1.0000, -1.0000, -1.0000, -1.0000, -1.0000, -1.0000],\n          [-1.0000, -1.0000, -1.0000, -1.0000, -1.0000, -1.0000, -1.0000,\n           -1.0000, -1.0000, -1.0000, -1.0000, -1.0000, -0.9922, -1.0000,\n           -1.0000, -0.8980, -0.4275, -1.0000, -1.0000, -0.9922, -0.9686,\n           -1.0000, -1.0000, -1.0000, -1.0000, -0.9922, -0.9922, -1.0000],\n          [-1.0000, -1.0000, -1.0000, -1.0000, -1.0000, -1.0000, -1.0000,\n           -1.0000, -1.0000, -1.0000, -1.0000, -1.0000, -0.9765, -1.0000,\n           -0.7176,  0.0667, -0.0039, -0.5137, -0.5765, -1.0000, -1.0000,\n           -1.0000, -0.9922, -0.9765, -0.9686, -1.0000, -1.0000, -0.9765],\n          [-1.0000, -1.0000, -1.0000, -1.0000, -1.0000, -1.0000, -1.0000,\n           -1.0000, -1.0000, -1.0000, -1.0000, -1.0000, -0.9529, -1.0000,\n           -0.2000,  0.6000,  0.3804,  0.0510,  0.1294, -0.0353, -0.8196,\n           -1.0000, -1.0000, -1.0000, -1.0000, -0.9059, -0.9216, -1.0000],\n          [-1.0000, -1.0000, -1.0000, -1.0000, -1.0000, -1.0000, -1.0000,\n           -1.0000, -1.0000, -1.0000, -1.0000, -1.0000, -1.0000, -1.0000,\n            0.2157,  0.8510,  0.6235,  0.3961, -0.1608,  0.2235,  0.2627,\n           -0.1451, -0.4980, -0.8196, -0.3961,  0.0196, -0.4353, -0.8824],\n          [-1.0000, -1.0000, -1.0000, -1.0000, -1.0000, -1.0000, -1.0000,\n           -1.0000, -1.0000, -1.0000, -1.0000, -0.9922, -1.0000, -0.4588,\n            0.6235,  0.7490,  0.7098,  0.6941,  0.6941,  0.2784, -0.0039,\n           -0.0510, -0.0431,  0.1451,  0.1059, -0.3098,  0.3490, -0.4824],\n          [-1.0000, -1.0000, -1.0000, -1.0000, -1.0000, -1.0000, -1.0000,\n           -1.0000, -1.0000, -0.9922, -0.9922, -0.9922, -1.0000,  0.5686,\n            0.8196,  0.8196,  0.8275,  0.7961,  0.7490,  0.7490,  0.6863,\n            0.6706,  0.2863, -0.0039, -0.0353,  0.5373,  0.7961, -1.0000],\n          [-1.0000, -1.0000, -1.0000, -1.0000, -1.0000, -1.0000, -1.0000,\n           -1.0000, -1.0000, -1.0000, -1.0000, -1.0000, -1.0000,  0.4353,\n            0.7647,  0.6941,  0.7490,  0.7882,  0.8431,  0.7804,  0.7569,\n            0.7412,  0.7569,  0.7333,  0.7490,  0.9216,  0.3569, -1.0000],\n          [-1.0000, -1.0000, -1.0000, -1.0000, -1.0000, -1.0000, -1.0000,\n           -1.0000, -1.0000, -1.0000, -1.0000, -1.0000, -1.0000,  0.5137,\n            0.7882,  0.7098,  0.6706,  0.5529,  0.4118,  0.6627,  0.6471,\n            0.6549,  0.6706,  0.7490,  0.7255,  0.9059,  0.5843, -1.0000],\n          [-1.0000, -1.0000, -1.0000, -1.0000, -1.0000, -1.0000, -1.0000,\n           -1.0000, -1.0000, -0.9922, -0.9765, -1.0000, -0.9059,  0.7176,\n            0.7255,  0.6627,  0.7098,  0.5059,  0.3255,  0.7804,  0.6314,\n            0.7098,  0.7569,  0.6627,  0.7725,  0.5451,  0.6392, -0.5922],\n          [-1.0000, -1.0000, -1.0000, -1.0000, -1.0000, -1.0000, -1.0000,\n           -1.0000, -1.0000, -1.0000, -0.9529, -1.0000, -0.2235,  0.9137,\n            0.7412,  0.7255,  0.7098,  0.5922,  0.5529,  0.7333,  0.6863,\n            0.6706,  0.7412,  0.7255,  0.9216, -0.0667,  0.3098, -0.5608],\n          [-1.0000, -1.0000, -1.0000, -1.0000, -1.0000, -1.0000, -1.0000,\n           -1.0000, -1.0000, -0.9686, -1.0000, -1.0000, -0.5686,  0.8510,\n            0.7882,  0.8039,  0.7882,  0.8824,  0.8196,  0.6706,  0.7098,\n            0.7490,  0.8353,  0.7020,  0.7020,  0.6392, -0.2784, -1.0000],\n          [-1.0000, -1.0000, -0.9922, -0.9686, -0.9529, -0.9451, -0.9843,\n           -1.0000, -1.0000, -1.0000, -1.0000, -1.0000,  0.8588,  0.7725,\n            0.7020,  0.7490,  0.7412,  0.7176,  0.7412,  0.7333,  0.6941,\n            0.7490,  0.7961,  0.6863,  0.7098,  1.0000, -0.3961, -1.0000],\n          [-1.0000, -0.9765, -1.0000, -1.0000, -1.0000, -1.0000, -1.0000,\n           -1.0000, -1.0000, -0.5137,  0.1373,  0.6000,  0.7882,  0.6235,\n            0.6706,  0.7333,  0.7098,  0.6314,  0.6549,  0.7098,  0.7569,\n            0.7490,  0.7176,  0.6863,  0.7569,  0.9137,  0.2471, -1.0000],\n          [-1.0000, -1.0000, -1.0000, -1.0000, -0.8588, -0.6549, -0.3569,\n           -0.1608,  0.4824,  0.7882,  0.7255,  0.7412,  0.7020,  0.7725,\n            0.5686,  0.6078,  0.6549,  0.8039,  0.7569,  0.8353,  0.3804,\n            0.4745,  0.9608,  0.9451,  0.8275,  0.8667,  0.6863, -1.0000],\n          [-1.0000, -0.5529,  0.4667,  0.6314,  0.7569,  0.7333,  0.7569,\n            0.6314,  0.6000,  0.6784,  0.6314,  0.6392,  0.5686,  0.2471,\n            0.9216,  0.5137,  0.6157,  0.7490,  1.0000,  1.0000,  0.7333,\n            0.8353,  0.7333,  0.6549,  0.7255,  0.8196,  0.9294, -1.0000],\n          [-0.9765,  0.5843,  0.7882,  0.7569,  0.7333,  0.6549,  0.6549,\n            0.6784,  0.6078,  0.6078,  0.6078,  0.7255,  0.8824, -0.3725,\n            0.1765,  1.0000,  0.7961,  0.7333,  0.4745,  0.2078,  0.4980,\n            0.6471,  0.6000,  0.6392,  0.7412,  0.7882,  0.7647, -1.0000],\n          [-0.2314,  0.8275,  0.5529,  0.6471,  0.7412,  0.7961,  0.7961,\n            0.8353,  0.9529,  0.7255,  0.5216,  0.6863,  0.7020,  0.8902,\n           -0.4902, -0.4275, -0.1686, -0.0824,  0.3176,  0.7176,  0.7333,\n            0.6863,  0.7020,  0.7490,  0.7490,  0.7569,  0.7961, -0.7725],\n          [-0.4118,  0.6000,  0.6627,  0.6000,  0.5137,  0.6078,  0.6549,\n            0.7647,  0.6941,  0.4510,  0.5451,  0.6157,  0.5529,  0.6706,\n            0.8824,  0.5294,  0.7804,  0.9216,  0.8745,  0.7490,  0.7098,\n            0.6627,  0.6392,  0.7412,  0.7255,  0.7333,  0.8039, -0.4745],\n          [-0.6235,  0.5922,  0.4353,  0.5216,  0.6706,  0.5451,  0.4510,\n            0.4902,  0.5216,  0.5059,  0.5843,  0.6784,  0.7176,  0.7333,\n            0.7255,  0.8510,  0.7647,  0.6941,  0.5608,  0.6157,  0.4588,\n            0.4196,  0.3882,  0.3490,  0.4196,  0.6078,  0.6157, -0.0980],\n          [-1.0000, -0.0431,  0.7176,  0.5137,  0.4039,  0.3412,  0.4353,\n            0.5373,  0.6000,  0.6471,  0.6706,  0.6235,  0.6549,  0.6471,\n            0.5686,  0.5373,  0.5216,  0.4980,  0.5294,  0.4980,  0.5529,\n            0.5059,  0.3804,  0.2235,  0.3098,  0.3882,  0.6471, -0.2784],\n          [-1.0000, -1.0000, -0.4196,  0.4824,  0.6627,  0.4980,  0.3725,\n            0.3490,  0.3725,  0.4196,  0.4510,  0.4745,  0.4824,  0.4745,\n            0.5137,  0.5529,  0.6000,  0.6392,  0.6471,  0.6471,  0.6549,\n            0.4745,  0.4745,  0.5216,  0.5059,  0.6941,  0.3333, -1.0000],\n          [-0.9843, -1.0000, -1.0000, -1.0000, -0.4824,  0.5686,  0.7412,\n            0.8588,  0.8745,  0.8980,  0.9294,  0.9059,  0.9137,  0.7333,\n            0.7255,  0.5137,  0.4980,  0.4039,  0.4275,  0.4275,  0.4196,\n            0.3804,  0.3020,  0.3176, -0.2235, -0.5451, -1.0000, -1.0000],\n          [-1.0000, -1.0000, -1.0000, -1.0000, -1.0000, -1.0000, -1.0000,\n           -0.6863, -0.5216, -0.6549, -0.4353, -0.6784, -0.7255, -1.0000,\n           -1.0000, -1.0000, -1.0000, -1.0000, -1.0000, -1.0000, -1.0000,\n           -1.0000, -1.0000, -1.0000, -1.0000, -1.0000, -1.0000, -1.0000],\n          [-1.0000, -1.0000, -1.0000, -1.0000, -1.0000, -1.0000, -1.0000,\n           -1.0000, -1.0000, -1.0000, -1.0000, -1.0000, -1.0000, -1.0000,\n           -1.0000, -1.0000, -1.0000, -1.0000, -1.0000, -1.0000, -1.0000,\n           -1.0000, -1.0000, -1.0000, -1.0000, -1.0000, -1.0000, -1.0000],\n          [-1.0000, -1.0000, -1.0000, -1.0000, -1.0000, -1.0000, -1.0000,\n           -1.0000, -1.0000, -1.0000, -1.0000, -1.0000, -1.0000, -1.0000,\n           -1.0000, -1.0000, -1.0000, -1.0000, -1.0000, -1.0000, -1.0000,\n           -1.0000, -1.0000, -1.0000, -1.0000, -1.0000, -1.0000, -1.0000]]]),\n 9)"
     },
     "execution_count": 20,
     "metadata": {},
     "output_type": "execute_result"
    }
   ]
  },
  {
   "cell_type": "code",
   "source": [
    "# Check image shape\n",
    "image.shape"
   ],
   "metadata": {
    "colab": {
     "base_uri": "https://localhost:8080/"
    },
    "id": "jCRYLV2vJ-Kq",
    "outputId": "c9dca748-6893-436a-aa0b-fced877f81cd"
   },
   "execution_count": 21,
   "outputs": [
    {
     "data": {
      "text/plain": "torch.Size([1, 28, 28])"
     },
     "execution_count": 21,
     "metadata": {},
     "output_type": "execute_result"
    }
   ]
  },
  {
   "cell_type": "code",
   "source": [
    "# How many samples are there? \n",
    "len(train_data.data), len(train_data.targets), len(test_data.data), len(test_data.targets)"
   ],
   "metadata": {
    "colab": {
     "base_uri": "https://localhost:8080/"
    },
    "id": "aahCUNfAFsPh",
    "outputId": "aa498bd8-2571-4d3a-de9a-47d016bc6539"
   },
   "execution_count": 22,
   "outputs": [
    {
     "data": {
      "text/plain": "(60000, 60000, 10000, 10000)"
     },
     "execution_count": 22,
     "metadata": {},
     "output_type": "execute_result"
    }
   ]
  },
  {
   "cell_type": "code",
   "source": [
    "# get classes name\n",
    "class_names = train_data.classes\n",
    "class_names"
   ],
   "metadata": {
    "colab": {
     "base_uri": "https://localhost:8080/"
    },
    "id": "Ww2L7R9zKL05",
    "outputId": "c5cd9e6b-e2e8-4111-c369-95f6dff83c86"
   },
   "execution_count": 23,
   "outputs": [
    {
     "data": {
      "text/plain": "['T-shirt/top',\n 'Trouser',\n 'Pullover',\n 'Dress',\n 'Coat',\n 'Sandal',\n 'Shirt',\n 'Sneaker',\n 'Bag',\n 'Ankle boot']"
     },
     "execution_count": 23,
     "metadata": {},
     "output_type": "execute_result"
    }
   ]
  },
  {
   "cell_type": "code",
   "source": [
    "# Visualizing first training sample \n",
    "print(f\"Image shape: {image.shape}\")\n",
    "plt.imshow(image.squeeze())\n",
    "plt.title(class_names[label])\n",
    "plt.show()"
   ],
   "metadata": {
    "colab": {
     "base_uri": "https://localhost:8080/",
     "height": 298
    },
    "id": "zs968oHrLSQo",
    "outputId": "208f8703-f168-40b9-eaaf-3fe570af7ebd"
   },
   "execution_count": 24,
   "outputs": [
    {
     "name": "stdout",
     "output_type": "stream",
     "text": [
      "Image shape: torch.Size([1, 28, 28])\n"
     ]
    },
    {
     "data": {
      "text/plain": "<Figure size 640x480 with 1 Axes>",
      "image/png": "[encoded data removed]"
     },
     "metadata": {},
     "output_type": "display_data"
    }
   ]
  },
  {
   "cell_type": "code",
   "source": [
    "# view more sampels\n",
    "def view_more_samples(data, class_names ,rows , cols ,seed=42):\n",
    "    \"\"\"\n",
    "     function displays a grid of (rows*cols) randomly selected images from the passed dataset,\n",
    "     with their corresponding labels in class_names.\n",
    "    :param data: Target dataset which wanted to be showen.\n",
    "    :param rows: number of images in rows.\n",
    "    :param columns:  number of images in columns .\n",
    "    :param seed: random seed value.Defaults to 42.\n",
    "    \"\"\"\n",
    "    torch.manual_seed(seed)\n",
    "    fig = plt.figure(figsize=(10, 10)) \n",
    "    for i in range(1, rows * cols + 1):\n",
    "        random_idx = torch.randint(0, len(train_data), size=[1]).item()\n",
    "        img, label = train_data[random_idx]\n",
    "        plt.subplot(rows, cols, i)\n",
    "        plt.imshow(img.squeeze(), cmap=\"gray\")\n",
    "        plt.title(class_names[label])\n",
    "        plt.axis(False)"
   ],
   "metadata": {
    "id": "4UOW_ZcFPgom"
   },
   "execution_count": 25,
   "outputs": []
  },
  {
   "cell_type": "code",
   "source": [
    "view_more_samples(train_data, class_names,5,5)"
   ],
   "metadata": {
    "colab": {
     "base_uri": "https://localhost:8080/",
     "height": 591
    },
    "id": "R61CVY87RQGp",
    "outputId": "246507aa-ef14-48d8-a7b6-6f72780f28a6"
   },
   "execution_count": 26,
   "outputs": [
    {
     "data": {
      "text/plain": "<Figure size 1000x1000 with 25 Axes>",
      "image/png": "[encoded data removed]"
     },
     "metadata": {},
     "output_type": "display_data"
    }
   ]
  },
  {
   "cell_type": "markdown",
   "source": [
    "# 3. Prepare DataLoader"
   ],
   "metadata": {
    "id": "EMj1dXZxYRc4"
   }
  },
  {
   "cell_type": "code",
   "source": [
    "import  os\n",
    "from  torch .utils.data import  DataLoader\n",
    "\n",
    "NUM_WORKERS =os.cpu_count()\n",
    "def create_dataloaders(train_data,test_data,\n",
    "                       batch_size:int,num_workers:int=NUM_WORKERS):\n",
    "    \"\"\"\n",
    "    Creates training and testing DataLoaders.\n",
    "    Takes in a training directory and testing directory path and turns them into PyTorch Datasets and then into PyTorch DataLoaders.\n",
    "\n",
    "    :param train_dir: Path to training directory.\n",
    "    :param test_dir: Path to testing directory.\n",
    "    :param batch_size: Number of samples per batch in each of the DataLoaders.\n",
    "    :param num_workers: An integer for number of workers per DataLoader.\n",
    "    :return:\n",
    "           A tuple of (train_dataloader, test_dataloader, class_names).\n",
    "           Where class_names is a list of the target classes.\n",
    "    \"\"\"\n",
    "  \n",
    "    # Get class names\n",
    "    class_names=train_data.classes\n",
    "\n",
    "    # Turn Images into data loaders\n",
    "    train_dataloader=DataLoader(train_data,batch_size=batch_size,shuffle=True,\n",
    "                                num_workers=num_workers,pin_memory=True)\n",
    "    test_dataloader=DataLoader(test_data,batch_size=batch_size,shuffle=True,\n",
    "                               num_workers=num_workers,pin_memory=True)\n",
    "    return train_dataloader,test_dataloader,class_names"
   ],
   "metadata": {
    "id": "GtopeTFCXWdz"
   },
   "execution_count": 27,
   "outputs": []
  },
  {
   "cell_type": "code",
   "source": [],
   "metadata": {
    "id": "6xINMdDjhdKI"
   },
   "execution_count": 27,
   "outputs": []
  },
  {
   "cell_type": "code",
   "source": [
    "train_dataloader,test_dataloader,class_names=create_dataloaders(train_data=train_data,test_data=test_data,batch_size=32)\n"
   ],
   "metadata": {
    "id": "zhusO8uvgbz_"
   },
   "execution_count": 28,
   "outputs": []
  },
  {
   "cell_type": "code",
   "source": [
    "# Check out what's inside the training dataloader\n",
    "train_features_batch, train_labels_batch = next(iter(train_dataloader))\n",
    "train_features_batch.shape, train_labels_batch.shape"
   ],
   "metadata": {
    "colab": {
     "base_uri": "https://localhost:8080/"
    },
    "id": "YLcM-60ah0NY",
    "outputId": "d2779093-09b4-4e47-8100-c8b1bb3d5a47"
   },
   "execution_count": 29,
   "outputs": [
    {
     "data": {
      "text/plain": "(torch.Size([32, 1, 28, 28]), torch.Size([32]))"
     },
     "execution_count": 29,
     "metadata": {},
     "output_type": "execute_result"
    }
   ]
  },
  {
   "cell_type": "markdown",
   "source": [
    "# 4. Building Model"
   ],
   "metadata": {
    "id": "cS1jcEuflyFe"
   }
  },
  {
   "cell_type": "code",
   "source": [
    "import torch.nn as nn\n",
    "import torch.nn.functional as F\n",
    "\n",
    "class FashionMNISTModel(nn.Module):\n",
    "    def __init__(self):\n",
    "        super(FashionMNISTModel, self).__init__()\n",
    "        \n",
    "        # Define the convolutional layers\n",
    "        self.conv1 = nn.Conv2d(in_channels=1, out_channels=32, kernel_size=3)\n",
    "        self.conv2 = nn.Conv2d(in_channels=32, out_channels=64, kernel_size=3)\n",
    "        \n",
    "        # Define the dropout layers\n",
    "        self.dropout1 = nn.Dropout(p=0.25)\n",
    "        self.dropout2 = nn.Dropout(p=0.5)\n",
    "        \n",
    "        # Define the fully connected layers\n",
    "        self.fc1 = nn.Linear(in_features=64 * 12 * 12, out_features=128)\n",
    "        self.fc2 = nn.Linear(in_features=128, out_features=10)\n",
    "\n",
    "    def forward(self, x):\n",
    "        # Pass input through convolutional layers\n",
    "        x = F.relu(self.conv1(x))\n",
    "        x = F.relu(self.conv2(x))\n",
    "        \n",
    "        # Apply max pooling and dropout\n",
    "        x = F.max_pool2d(x, kernel_size=2)\n",
    "        x = self.dropout1(x)\n",
    "        \n",
    "        # Flatten the output from convolutional layers and pass through fully connected layers\n",
    "        x = torch.flatten(x, start_dim=1)\n",
    "        x = F.relu(self.fc1(x))\n",
    "        x = self.dropout2(x)\n",
    "        x = self.fc2(x)\n",
    "        \n",
    "        return x\n",
    "\n",
    "# Set the seed for reproducibility\n",
    "torch.manual_seed(42)\n",
    "\n",
    "# Create an instance of the model and move it to the device (e.g. GPU)\n",
    "model = FashionMNISTModel().to(device)\n"
   ],
   "metadata": {
    "id": "Git3DHPNkGoC"
   },
   "execution_count": 30,
   "outputs": []
  },
  {
   "cell_type": "markdown",
   "source": [
    "# 5. Training Model"
   ],
   "metadata": {
    "id": "7aM7xEjNqIoN"
   }
  },
  {
   "cell_type": "code",
   "source": [
    "from typing import Dict,List,Tuple\n",
    "def train_step(model:torch.nn.Module,\n",
    "               dataloader:torch.utils.data .DataLoader,\n",
    "               loss_fn:torch.nn.Module,optimizer:torch.optim.Optimizer,\n",
    "               device:torch.device)->Tuple[float,float]:\n",
    "    \"\"\"\n",
    "    Trains a PyTorch model for a single epoch.\n",
    "    Turns a target PyTorch model to training mode and then runs through all of the required training steps\n",
    "    (forward pass, loss calculation, optimizer step).\n",
    "    :param model: A PyTorch model to be trained.\n",
    "    :param dataloader: A DataLoader instance for the model to be trained on.\n",
    "    :param loss_fn: A PyTorch loss function to minimize.\n",
    "    :param optimizer: A PyTorch optimizer to help minimize the loss function.\n",
    "    :param device: A target device to compute on (e.g. \"cuda\" or \"cpu\").\n",
    "    :return:\n",
    "     A tuple of training loss and training accuracy metrics.\n",
    "     In the form (train_loss, train_accuracy).\n",
    "     For example: (0.1112, 0.8743)\n",
    "    \"\"\"\n",
    "    # Put model in train mode\n",
    "    model.train()\n",
    "\n",
    "    # Setup train loss and train accuracy values\n",
    "    train_loss, train_acc =0, 0\n",
    "\n",
    "    # Loop through data loader , data batches\n",
    "    for batch ,(X,y) in enumerate(dataloader):\n",
    "        # send data to target device\n",
    "        X, y=X.to(device) , y.to(device)\n",
    "\n",
    "        # 1. Forward pass\n",
    "        y_pred = model(X)\n",
    "        # 2. Calculate and accumulate loss\n",
    "        loss=loss_fn(y_pred,y)\n",
    "        train_loss += loss.item()\n",
    "        # 3. Optimizer zero grade\n",
    "        optimizer.zero_grad()\n",
    "        # 4. Loss backward\n",
    "        loss.backward()\n",
    "        # 5. Optimizer step\n",
    "        optimizer.step()\n",
    "\n",
    "        # Calculate and accumulate accuracy across all batches\n",
    "        y_pred_class = torch.argmax(torch.softmax(y_pred,dim=1),dim=1)\n",
    "        train_acc += ((y_pred_class == y).sum().item())/len(y_pred)\n",
    "\n",
    "    # Adjust metrics to get average loss and accuracy per batch\n",
    "    train_loss = train_loss/ len(dataloader)\n",
    "    train_acc = train_acc / len(dataloader)\n",
    "    return train_loss ,train_acc\n",
    "\n",
    "def test_step(model: torch.nn.Module,\n",
    "               dataloader: torch.utils.data.DataLoader,\n",
    "               loss_fn: torch.nn.Module,\n",
    "               device: torch.device) -> Tuple[float, float]:\n",
    "     \"\"\"\n",
    "     Tests a PyTorch model for a single epoch.\n",
    "     Turns a target PyTorch model to \"eval\" mode and then performs\n",
    "     a forward pass on a testing dataset.\n",
    "     :param model: A PyTorch model to be tested.\n",
    "     :param dataloader: A DataLoader instance for the model to be tested on.\n",
    "     :param loss_fn: A PyTorch loss function to calculate loss on the test data.\n",
    "     :param device: A target device to compute on (e.g. \"cuda\" or \"cpu\").\n",
    "     :return:\n",
    "     A tuple of testing loss and testing accuracy metrics.\n",
    "     In the form (test_loss, test_accuracy).\n",
    "     For example: (0.0223, 0.8985)\n",
    "     \"\"\"\n",
    "     # Put model in eval mode\n",
    "     model.eval()\n",
    "\n",
    "     #  Setup test loss and test accuracy values\n",
    "     test_loss ,test_acc= 0,0\n",
    "\n",
    "     # Turn on inference context manager\n",
    "     with torch.inference_mode():\n",
    "         for batch , (X,y) in enumerate(dataloader):\n",
    "             #  Send data to target device\n",
    "             X, y= X.to(device) , y.to(device)\n",
    "\n",
    "             # 1. Forward pass\n",
    "             test_pred_logits= model(X)\n",
    "\n",
    "             # 2. Calculate and accumulate loss\n",
    "             loss =loss_fn(test_pred_logits,y)\n",
    "             test_loss += loss.item()\n",
    "\n",
    "             # Calculate and accumulate accuracy\n",
    "             test_pred_labels = test_pred_logits.argmax(dim=1)\n",
    "             test_acc += ((test_pred_labels == y).sum().item())/len(test_pred_labels)\n",
    "     # Adjust metrics to get average loss and accuracy per batch\n",
    "     test_loss =test_loss/ len(dataloader)\n",
    "     test_acc = test_acc / len(dataloader)\n",
    "     return  test_loss , test_acc\n",
    "\n",
    "def train (model: torch.nn.Module,\n",
    "           train_dataloader: torch.utils.data.DataLoader,\n",
    "           test_dataloader: torch.utils.data.DataLoader,\n",
    "           optimizer: torch.optim.Optimizer,\n",
    "           loss_fn: torch.nn.Module,\n",
    "           epochs: int,\n",
    "           device: torch.device) -> Dict[str, List]:\n",
    "    \"\"\"\n",
    "    Trains and tests a PyTorch model.\n",
    "    Passes a target PyTorch models through train_step() and test_step() functions for a number of epochs, training and testing the model in the same epoch loop.\n",
    "    Calculates, prints and stores evaluation metrics throughout.\n",
    "\n",
    "    :param model: A PyTorch model to be trained and tested.\n",
    "    :param train_dataloader: A DataLoader instance for the model to be trained on.\n",
    "    :param test_dataloader: A DataLoader instance for the model to be tested on.\n",
    "    :param optimizer: A PyTorch optimizer to help minimize the loss function.\n",
    "    :param loss_fn: A PyTorch loss function to calculate loss on both datasets.\n",
    "    :param epochs: An integer indicating how many epochs to train for.\n",
    "    :param device: A target device to compute on (e.g. \"cuda\" or \"cpu\").\n",
    "    :return:\n",
    "    A dictionary of training and testing loss as well as training and testing accuracy metrics.\n",
    "    Each metric has a value in a list for each epoch.\n",
    "    In the form: {train_loss: [...],\n",
    "                  train_acc: [...],\n",
    "              t   test_loss: [...],\n",
    "                  test_acc: [...]}\n",
    "    For example if training for epochs=2:\n",
    "             {train_loss: [2.0616, 1.0537],\n",
    "              train_acc: [0.3945, 0.3945],\n",
    "              test_loss: [1.2641, 1.5706],\n",
    "              test_acc: [0.3400, 0.2973]}\n",
    "    \"\"\"\n",
    "    # Create empty results dictionary\n",
    "    results = {\"train_loss\":[],\n",
    "               \"train_acc\":[],\n",
    "               \"test_loss\":[],\n",
    "               \"test_acc\":[]}\n",
    "\n",
    "    # Loop through training and testing steps for a number of epochs\n",
    "    for epoch in range(epochs):\n",
    "        train_loss , train_acc = train_step(model=model,\n",
    "                                            dataloader=train_dataloader,\n",
    "                                            loss_fn=loss_fn,\n",
    "                                            optimizer=optimizer,\n",
    "                                            device=device)\n",
    "        test_loss, test_acc = test_step(model=model,\n",
    "                                        dataloader=test_dataloader,\n",
    "                                        loss_fn=loss_fn,\n",
    "                                        device=device)\n",
    "\n",
    "        # Print out what's happening\n",
    "        print(f\"Epoch: {epoch+1} | \"\n",
    "              f\"train_loss: {train_loss:.4f} | \"\n",
    "              f\"train_acc: {train_acc:.4f} | \"\n",
    "              f\"test_loss: {test_loss:.4f} | \"\n",
    "              f\"test_acc: {test_acc:.4f}\")\n",
    "\n",
    "        # Update results dictionary\n",
    "        results[\"train_loss\"].append(train_loss)\n",
    "        results[\"train_acc\"].append(train_acc)\n",
    "        results[\"test_loss\"].append(test_loss)\n",
    "        results[\"test_acc\"].append(test_acc)\n",
    "\n",
    "    # Return the filled results at the end of the epochs\n",
    "    return results\n"
   ],
   "metadata": {
    "id": "a_vyu1LtqH93"
   },
   "execution_count": 31,
   "outputs": []
  },
  {
   "cell_type": "code",
   "source": [
    "# setup optimizer\n",
    "optimizer=torch.optim.Adam(params=model.parameters(),lr=1e-3)\n",
    "\n",
    "# setup loss function\n",
    "loss_fn=torch.nn.CrossEntropyLoss()\n",
    "\n",
    "\n",
    "model_results= train(model=model,\n",
    "                        train_dataloader=train_dataloader,\n",
    "                        test_dataloader=test_dataloader,\n",
    "                        epochs=15,\n",
    "                        optimizer=optimizer,\n",
    "                        loss_fn=loss_fn,\n",
    "                        device=device)"
   ],
   "metadata": {
    "colab": {
     "base_uri": "https://localhost:8080/"
    },
    "id": "rbdRfC5kqnkw",
    "outputId": "301b4e0f-acbe-4c2f-837a-74fa0d9942d0"
   },
   "execution_count": 32,
   "outputs": [
    {
     "name": "stdout",
     "output_type": "stream",
     "text": [
      "Epoch: 1 | train_loss: 0.5074 | train_acc: 0.8192 | test_loss: 0.3200 | test_acc: 0.8811\n",
      "Epoch: 2 | train_loss: 0.3468 | train_acc: 0.8772 | test_loss: 0.2750 | test_acc: 0.9001\n",
      "Epoch: 3 | train_loss: 0.2994 | train_acc: 0.8929 | test_loss: 0.2553 | test_acc: 0.9064\n",
      "Epoch: 4 | train_loss: 0.2737 | train_acc: 0.9021 | test_loss: 0.2412 | test_acc: 0.9130\n",
      "Epoch: 5 | train_loss: 0.2551 | train_acc: 0.9076 | test_loss: 0.2295 | test_acc: 0.9139\n",
      "Epoch: 6 | train_loss: 0.2400 | train_acc: 0.9127 | test_loss: 0.2258 | test_acc: 0.9172\n",
      "Epoch: 7 | train_loss: 0.2245 | train_acc: 0.9191 | test_loss: 0.2216 | test_acc: 0.9199\n",
      "Epoch: 8 | train_loss: 0.2212 | train_acc: 0.9202 | test_loss: 0.2207 | test_acc: 0.9209\n",
      "Epoch: 9 | train_loss: 0.2084 | train_acc: 0.9242 | test_loss: 0.2108 | test_acc: 0.9241\n",
      "Epoch: 10 | train_loss: 0.2014 | train_acc: 0.9268 | test_loss: 0.2252 | test_acc: 0.9240\n",
      "Epoch: 11 | train_loss: 0.1936 | train_acc: 0.9294 | test_loss: 0.2383 | test_acc: 0.9213\n",
      "Epoch: 12 | train_loss: 0.1882 | train_acc: 0.9318 | test_loss: 0.2160 | test_acc: 0.9267\n",
      "Epoch: 13 | train_loss: 0.1834 | train_acc: 0.9325 | test_loss: 0.2273 | test_acc: 0.9275\n",
      "Epoch: 14 | train_loss: 0.1766 | train_acc: 0.9345 | test_loss: 0.2204 | test_acc: 0.9248\n",
      "Epoch: 15 | train_loss: 0.1708 | train_acc: 0.9379 | test_loss: 0.2112 | test_acc: 0.9284\n"
     ]
    }
   ]
  },
  {
   "cell_type": "code",
   "source": [
    "# # setup optimizer\n",
    "# optimizer=torch.optim.SGD(params=model.parameters(),lr=1e-3)\n",
    "\n",
    "# # setup loss function\n",
    "# loss_fn=torch.nn.CrossEntropyLoss()\n",
    "\n",
    "\n",
    "# model_results= train(model=model,\n",
    "#                         train_dataloader=train_dataloader,\n",
    "#                         test_dataloader=test_dataloader,\n",
    "#                         epochs=10,\n",
    "#                         optimizer=optimizer,\n",
    "#                         loss_fn=loss_fn,\n",
    "#                         device=device)"
   ],
   "metadata": {
    "id": "gisYBltdq4dZ"
   },
   "execution_count": 33,
   "outputs": []
  },
  {
   "cell_type": "code",
   "source": [
    "def plot_loss_curves(results):\n",
    "    \"\"\"\n",
    "    Plots training curves of a results dictionary.\n",
    "    :param results: dictionary containing list of values, e.g.\n",
    "                    {\"train_loss\": [...],\n",
    "                     \"train_acc\": [...],\n",
    "                     \"test_loss\": [...],\n",
    "                     \"test_acc\": [...]}\n",
    "    :return: loss curves\n",
    "    \"\"\"\n",
    "\n",
    "    loss = results[\"train_loss\"]\n",
    "    test_loss = results[\"test_loss\"]\n",
    "\n",
    "    accuracy = results[\"train_acc\"]\n",
    "    test_accuracy = results[\"test_acc\"]\n",
    "\n",
    "    epochs = range(len(results[\"train_loss\"]))\n",
    "\n",
    "    plt.figure(figsize=(15, 7))\n",
    "\n",
    "    # Plot loss\n",
    "    plt.subplot(1, 2, 1)\n",
    "    plt.plot(epochs, loss, label=\"train_loss\")\n",
    "    plt.plot(epochs, test_loss, label=\"test_loss\")\n",
    "    plt.title(\"Loss\")\n",
    "    plt.xlabel(\"Epochs\")\n",
    "    plt.legend()\n",
    "\n",
    "    # Plot accuracy\n",
    "    plt.subplot(1, 2, 2)\n",
    "    plt.plot(epochs, accuracy, label=\"train_accuracy\")\n",
    "    plt.plot(epochs, test_accuracy, label=\"test_accuracy\")\n",
    "    plt.title(\"Accuracy\")\n",
    "    plt.xlabel(\"Epochs\")\n",
    "    plt.legend()"
   ],
   "metadata": {
    "id": "xWuAG7LiRy77"
   },
   "execution_count": 34,
   "outputs": []
  },
  {
   "cell_type": "code",
   "source": [
    "plot_loss_curves(model_results)"
   ],
   "metadata": {
    "id": "zTMx-1f7R145"
   },
   "execution_count": 35,
   "outputs": [
    {
     "data": {
      "text/plain": "<Figure size 1500x700 with 2 Axes>",
      "image/png": "[encoded data removed]"
     },
     "metadata": {},
     "output_type": "display_data"
    }
   ]
  },
  {
   "cell_type": "markdown",
   "source": [
    "\n",
    "# 6. Make and evaluate random predictions"
   ],
   "metadata": {
    "id": "hoTz11RdT26X"
   }
  },
  {
   "cell_type": "code",
   "source": [
    "def make_predictions(model: torch.nn.Module, data: list, device: torch.device = device):\n",
    "    pred_probs = []\n",
    "    model.eval()\n",
    "    with torch.inference_mode():\n",
    "        for sample in data:\n",
    "            # Prepare sample\n",
    "            sample = torch.unsqueeze(sample, dim=0).to(device) # Add an extra dimension and send sample to device\n",
    "\n",
    "            # Forward pass (model outputs raw logit)\n",
    "            pred_logit = model(sample)\n",
    "\n",
    "            # Get prediction probability (logit -> prediction probability)\n",
    "            pred_prob = torch.softmax(pred_logit.squeeze(), dim=0)\n",
    "\n",
    "            # Get pred_prob off GPU for further calculations\n",
    "            pred_probs.append(pred_prob.cpu())\n",
    "            \n",
    "    # Stack the pred_probs to turn list into a tensor\n",
    "    return torch.stack(pred_probs)"
   ],
   "metadata": {
    "id": "uMLhl1EzsTjM"
   },
   "execution_count": 36,
   "outputs": []
  },
  {
   "cell_type": "code",
   "source": [
    "import random\n",
    "random.seed(42)\n",
    "test_samples = []\n",
    "test_labels = []\n",
    "for sample, label in random.sample(list(test_data), k=9):\n",
    "    test_samples.append(sample)\n",
    "    test_labels.append(label)\n",
    "\n",
    "# View the first test sample shape and label\n",
    "print(f\"Test sample image shape: {test_samples[0].shape}\\nTest sample label: {test_labels[0]} ({class_names[test_labels[0]]})\")"
   ],
   "metadata": {
    "id": "uUKLgI_uULu9"
   },
   "execution_count": 37,
   "outputs": [
    {
     "name": "stdout",
     "output_type": "stream",
     "text": [
      "Test sample image shape: torch.Size([1, 28, 28])\n",
      "Test sample label: 5 (Sandal)\n"
     ]
    }
   ]
  },
  {
   "cell_type": "code",
   "source": [
    "# Make predictions on test samples with model 2\n",
    "pred_probs= make_predictions(model=model, \n",
    "                             data=test_samples)\n",
    "\n",
    "# View first two prediction probabilities list\n",
    "pred_probs[:2]"
   ],
   "metadata": {
    "id": "AqWJuSerUcdH"
   },
   "execution_count": 38,
   "outputs": [
    {
     "data": {
      "text/plain": "tensor([[8.6444e-12, 1.5906e-20, 8.0891e-15, 1.8592e-21, 6.8200e-21, 1.0000e+00,\n         1.6353e-15, 1.5066e-10, 7.8767e-10, 6.4742e-09],\n        [1.1881e-06, 1.0000e+00, 1.9111e-08, 2.6977e-08, 1.9826e-09, 6.5642e-12,\n         3.3256e-07, 1.7716e-14, 1.9691e-09, 9.3553e-13]])"
     },
     "execution_count": 38,
     "metadata": {},
     "output_type": "execute_result"
    }
   ]
  },
  {
   "cell_type": "code",
   "source": [
    "# Turn the prediction probabilities into prediction labels by taking the argmax()\n",
    "pred_classes = pred_probs.argmax(dim=1)\n",
    "pred_classes"
   ],
   "metadata": {
    "id": "Rgbr95loUwpJ"
   },
   "execution_count": 39,
   "outputs": [
    {
     "data": {
      "text/plain": "tensor([5, 1, 7, 4, 3, 0, 4, 7, 1])"
     },
     "execution_count": 39,
     "metadata": {},
     "output_type": "execute_result"
    }
   ]
  },
  {
   "cell_type": "code",
   "source": [
    "# Plot predictions\n",
    "plt.figure(figsize=(9, 9))\n",
    "nrows = 3\n",
    "ncols = 3\n",
    "for i, sample in enumerate(test_samples):\n",
    "  # Create a subplot\n",
    "  plt.subplot(nrows, ncols, i+1)\n",
    "\n",
    "  # Plot the target image\n",
    "  plt.imshow(sample.squeeze(), cmap=\"gray\")\n",
    "\n",
    "  # Find the prediction label (in text form, e.g. \"Sandal\")\n",
    "  pred_label = class_names[pred_classes[i]]\n",
    "\n",
    "  # Get the truth label (in text form, e.g. \"T-shirt\")\n",
    "  truth_label = class_names[test_labels[i]] \n",
    "\n",
    "  # Create the title text of the plot\n",
    "  title_text = f\"Pred: {pred_label} | Truth: {truth_label}\"\n",
    "  \n",
    "  # Check for equality and change title colour accordingly\n",
    "  if pred_label == truth_label:\n",
    "      plt.title(title_text, fontsize=10, c=\"g\") # green text if correct\n",
    "  else:\n",
    "      plt.title(title_text, fontsize=10, c=\"r\") # red text if wrong\n",
    "  plt.axis(False);"
   ],
   "metadata": {
    "id": "SneTPeSbUhuc"
   },
   "execution_count": 40,
   "outputs": [
    {
     "data": {
      "text/plain": "<Figure size 900x900 with 9 Axes>",
      "image/png": "[encoded data removed]"
     },
     "metadata": {},
     "output_type": "display_data"
    }
   ]
  },
  {
   "cell_type": "markdown",
   "source": [
    "# 7. Making a confusion matrix for further prediction evaluation"
   ],
   "metadata": {
    "id": "i1TH_mCfVR1G"
   }
  },
  {
   "cell_type": "code",
   "source": [
    "# Import tqdm for progress bar\n",
    "from tqdm.auto import tqdm\n",
    "\n",
    "# 1. Make predictions with trained model\n",
    "y_preds = []\n",
    "model.eval()\n",
    "with torch.inference_mode():\n",
    "  for X, y in tqdm(test_dataloader, desc=\"Making predictions\"):\n",
    "    # Send data and targets to target device\n",
    "    X, y = X.to(device), y.to(device)\n",
    "    # Do the forward pass\n",
    "    y_logit = model(X)\n",
    "    # Turn predictions from logits -> prediction probabilities -> predictions labels\n",
    "    y_pred = torch.softmax(y_logit, dim=1).argmax(dim=1)\n",
    "    # Put predictions on CPU for evaluation\n",
    "    y_preds.append(y_pred.cpu())\n",
    "# Concatenate list of predictions into a tensor\n",
    "y_pred_tensor = torch.cat(y_preds)"
   ],
   "metadata": {
    "id": "L6Q5iQxPVQRZ"
   },
   "execution_count": 41,
   "outputs": [
    {
     "data": {
      "text/plain": "Making predictions:   0%|          | 0/313 [00:00<?, ?it/s]",
      "application/vnd.jupyter.widget-view+json": {
       "version_major": 2,
       "version_minor": 0,
       "model_id": "8207a21572eb41fda855b0c26258d9cb"
      }
     },
     "metadata": {},
     "output_type": "display_data"
    }
   ]
  },
  {
   "cell_type": "code",
   "source": [
    "# See if torchmetrics exists, if not, install it\n",
    "try:\n",
    "    import torchmetrics, mlxtend\n",
    "    print(f\"mlxtend version: {mlxtend.__version__}\")\n",
    "    assert int(mlxtend.__version__.split(\".\")[1]) >= 19, \"mlxtend verison should be 0.19.0 or higher\"\n",
    "except:\n",
    "    !pip install -q torchmetrics -U mlxtend # <- Note: If you're using Google Colab, this may require restarting the runtime\n",
    "    import torchmetrics, mlxtend\n",
    "    print(f\"mlxtend version: {mlxtend.__version__}\")"
   ],
   "metadata": {
    "id": "AbGprcxHVok5"
   },
   "execution_count": 42,
   "outputs": [
    {
     "name": "stdout",
     "output_type": "stream",
     "text": [
      "mlxtend version: 0.21.0\n"
     ]
    }
   ]
  },
  {
   "cell_type": "code",
   "source": [
    "# Import mlxtend upgraded version\n",
    "import mlxtend \n",
    "print(mlxtend.__version__)\n",
    "assert int(mlxtend.__version__.split(\".\")[1]) >= 19 # should be version 0.19.0 or higher"
   ],
   "metadata": {
    "id": "tXu26uj8Vuf5"
   },
   "execution_count": 43,
   "outputs": [
    {
     "name": "stdout",
     "output_type": "stream",
     "text": [
      "0.21.0\n"
     ]
    }
   ]
  },
  {
   "cell_type": "code",
   "source": [
    "from torchmetrics import ConfusionMatrix\n",
    "from mlxtend.plotting import plot_confusion_matrix\n",
    "\n",
    "# 2. Setup confusion matrix instance and compare predictions to targets\n",
    "confmat = ConfusionMatrix(num_classes=len(class_names), task='multiclass')\n",
    "confmat_tensor = confmat(preds=y_pred_tensor,\n",
    "                         target=test_data.targets)\n",
    "\n",
    "# 3. Plot the confusion matrix\n",
    "fig, ax = plot_confusion_matrix(\n",
    "    conf_mat=confmat_tensor.numpy(), # matplotlib likes working with NumPy \n",
    "    class_names=class_names, # turn the row and column labels into class names\n",
    "    figsize=(10, 7)\n",
    ")"
   ],
   "metadata": {
    "id": "U_S_1uiCV34O"
   },
   "execution_count": 44,
   "outputs": [
    {
     "data": {
      "text/plain": "<Figure size 1000x700 with 1 Axes>",
      "image/png": "[encoded data removed]"
     },
     "metadata": {},
     "output_type": "display_data"
    }
   ]
  },
  {
   "cell_type": "code",
   "source": [
    "import sklearn.metrics as metrics\n",
    "\n",
    "y_preds = []\n",
    "y_true = []\n",
    "model.eval()\n",
    "with torch.inference_mode():\n",
    "    for X, y in tqdm(test_dataloader, desc=\"Making predictions\"):\n",
    "        X, y = X.to(device), y.to(device)\n",
    "        y_logit = model(X)\n",
    "        y_pred = torch.softmax(y_logit, dim=1).argmax(dim=1)\n",
    "        y_preds.append(y_pred)\n",
    "        y_true.append(y)\n",
    "\n",
    "y_preds = torch.cat(y_preds).flatten().tolist()\n",
    "y_true = torch.cat(y_true).flatten().tolist()\n",
    "\n",
    "print(\"Classification report for CNN :\\n%s\\n\" % (metrics.classification_report(y_true, y_preds)))\n"
   ],
   "metadata": {
    "id": "wNvV3D06X7Se"
   },
   "execution_count": 45,
   "outputs": [
    {
     "data": {
      "text/plain": "Making predictions:   0%|          | 0/313 [00:00<?, ?it/s]",
      "application/vnd.jupyter.widget-view+json": {
       "version_major": 2,
       "version_minor": 0,
       "model_id": "0d7ce8d969184b50868030098724c419"
      }
     },
     "metadata": {},
     "output_type": "display_data"
    },
    {
     "name": "stdout",
     "output_type": "stream",
     "text": [
      "Classification report for CNN :\n",
      "              precision    recall  f1-score   support\n",
      "\n",
      "           0       0.90      0.85      0.87      1000\n",
      "           1       1.00      0.98      0.99      1000\n",
      "           2       0.89      0.90      0.89      1000\n",
      "           3       0.93      0.93      0.93      1000\n",
      "           4       0.87      0.90      0.88      1000\n",
      "           5       0.99      0.98      0.99      1000\n",
      "           6       0.78      0.79      0.78      1000\n",
      "           7       0.97      0.97      0.97      1000\n",
      "           8       0.99      0.99      0.99      1000\n",
      "           9       0.97      0.97      0.97      1000\n",
      "\n",
      "    accuracy                           0.93     10000\n",
      "   macro avg       0.93      0.93      0.93     10000\n",
      "weighted avg       0.93      0.93      0.93     10000\n",
      "\n",
      "\n"
     ]
    }
   ]
  },
  {
   "cell_type": "markdown",
   "source": [
    "# 8. Save best performing model"
   ],
   "metadata": {
    "id": "VR93MeHoWTu8"
   }
  },
  {
   "cell_type": "code",
   "source": [
    "from pathlib import Path\n",
    "\n",
    "# Create models directory\n",
    "MODEL_PATH = Path(\"models\")\n",
    "MODEL_PATH.mkdir(parents=True, # create parent directories if needed\n",
    "                 exist_ok=True # if models directory already exists, don't error\n",
    ")\n",
    "\n",
    "# Create model save path\n",
    "MODEL_NAME = \"fasion_eminst_model.pth\"\n",
    "MODEL_SAVE_PATH = MODEL_PATH / MODEL_NAME\n",
    "\n",
    "# Save the model state dict\n",
    "print(f\"Saving model to: {MODEL_SAVE_PATH}\")\n",
    "torch.save(obj=model.state_dict(), # only saving the state_dict() only saves the learned parameters\n",
    "           f=MODEL_SAVE_PATH)"
   ],
   "metadata": {
    "id": "9DxAlVSlWOdB"
   },
   "execution_count": 47,
   "outputs": [
    {
     "name": "stdout",
     "output_type": "stream",
     "text": [
      "Saving model to: models/fasion_eminst_model.pth\n"
     ]
    }
   ]
  },
  {
   "cell_type": "code",
   "execution_count": null,
   "outputs": [],
   "source": [],
   "metadata": {
    "collapsed": false
   }
  }
 ]
}
